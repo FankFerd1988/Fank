{
  "nbformat": 4,
  "nbformat_minor": 0,
  "metadata": {
    "colab": {
      "provenance": [],
      "include_colab_link": true
    },
    "kernelspec": {
      "name": "python3",
      "display_name": "Python 3"
    },
    "language_info": {
      "name": "python"
    }
  },
  "cells": [
    {
      "cell_type": "markdown",
      "metadata": {
        "id": "view-in-github",
        "colab_type": "text"
      },
      "source": [
        "<a href=\"https://colab.research.google.com/github/FankFerd1988/Fank/blob/main/python_getdata_web.ipynb\" target=\"_parent\"><img src=\"https://colab.research.google.com/assets/colab-badge.svg\" alt=\"Open In Colab\"/></a>"
      ]
    },
    {
      "cell_type": "markdown",
      "source": [
        "เชื่อมต่อ Colab เข้ากัย Google Drive"
      ],
      "metadata": {
        "id": "2uV_LRolQPwr"
      }
    },
    {
      "cell_type": "code",
      "execution_count": null,
      "metadata": {
        "colab": {
          "base_uri": "https://localhost:8080/"
        },
        "id": "gmb6z9d-Pju9",
        "outputId": "aa56bc77-beb3-4790-bcbf-cab9fb88e7b1"
      },
      "outputs": [
        {
          "output_type": "stream",
          "name": "stdout",
          "text": [
            "Mounted at /content/drive\n"
          ]
        }
      ],
      "source": [
        "from google.colab import drive\n",
        "drive.mount('/content/drive')"
      ]
    },
    {
      "cell_type": "markdown",
      "source": [
        "ติดตั้ง ไลบรารี่"
      ],
      "metadata": {
        "id": "6But3mCJQTzt"
      }
    },
    {
      "cell_type": "code",
      "source": [
        "pip install requests"
      ],
      "metadata": {
        "colab": {
          "base_uri": "https://localhost:8080/"
        },
        "id": "ff_FZE4APsrN",
        "outputId": "7e6011e6-f08a-4448-ad38-52caf1149191"
      },
      "execution_count": null,
      "outputs": [
        {
          "output_type": "stream",
          "name": "stdout",
          "text": [
            "Requirement already satisfied: requests in /usr/local/lib/python3.10/dist-packages (2.31.0)\n",
            "Requirement already satisfied: charset-normalizer<4,>=2 in /usr/local/lib/python3.10/dist-packages (from requests) (3.3.2)\n",
            "Requirement already satisfied: idna<4,>=2.5 in /usr/local/lib/python3.10/dist-packages (from requests) (3.6)\n",
            "Requirement already satisfied: urllib3<3,>=1.21.1 in /usr/local/lib/python3.10/dist-packages (from requests) (2.0.7)\n",
            "Requirement already satisfied: certifi>=2017.4.17 in /usr/local/lib/python3.10/dist-packages (from requests) (2023.11.17)\n"
          ]
        }
      ]
    },
    {
      "cell_type": "code",
      "source": [
        "pip install beautifulsoup4"
      ],
      "metadata": {
        "colab": {
          "base_uri": "https://localhost:8080/"
        },
        "id": "QzutFXJSPt2j",
        "outputId": "de5175fd-6345-4c1d-a15b-44ed979e0c91"
      },
      "execution_count": null,
      "outputs": [
        {
          "output_type": "stream",
          "name": "stdout",
          "text": [
            "Requirement already satisfied: beautifulsoup4 in /usr/local/lib/python3.10/dist-packages (4.11.2)\n",
            "Requirement already satisfied: soupsieve>1.2 in /usr/local/lib/python3.10/dist-packages (from beautifulsoup4) (2.5)\n"
          ]
        }
      ]
    },
    {
      "cell_type": "code",
      "source": [
        "import requests\n",
        "from bs4 import BeautifulSoup\n",
        "\n",
        "def fetch_and_save_body_text(url, output_file):\n",
        "    try:\n",
        "        # ดึงข้อมูลจาก URL\n",
        "        response = requests.get(url)\n",
        "        response.raise_for_status()  # ตรวจสอบว่ามีข้อผิดพลาดหรือไม่\n",
        "\n",
        "        # ใช้ BeautifulSoup เพื่อแปลง HTML\n",
        "        soup = BeautifulSoup(response.text, 'html.parser')\n",
        "\n",
        "        # ดึงข้อความที่อยู่ใน tag <body>\n",
        "        body_text = soup.body.get_text(separator=' ')\n",
        "\n",
        "        # ลบเว้นบรรทัดที่อาจเกิดจาก HTML\n",
        "        formatted_text = ' '.join(line.strip() for line in body_text.split('\\n') if line.strip())\n",
        "\n",
        "        # เขียนข้อมูลลงในไฟล์ .txt\n",
        "        with open(output_file, 'w', encoding='utf-8') as file:\n",
        "            file.write(formatted_text)\n",
        "\n",
        "        print(f\"ดึงข้อมูลจาก {url} และบันทึกเฉพาะข้อความที่อยู่ใน tag <body> ลงในไฟล์ {output_file} เรียบร้อย\")\n",
        "    except requests.exceptions.RequestException as e:\n",
        "        print(f\"เกิดข้อผิดพลาดในการดึงข้อมูล: {e}\")\n",
        "\n",
        "# ตัวอย่างการใช้งาน\n",
        "url_to_fetch = \"####\"\n",
        "output_file_path = \"output.txt\"\n",
        "fetch_and_save_body_text(url_to_fetch, output_file_path)\n"
      ],
      "metadata": {
        "colab": {
          "base_uri": "https://localhost:8080/"
        },
        "id": "ynnZybPgPvRV",
        "outputId": "6efd6467-1213-495e-c958-290cddfcce8e"
      },
      "execution_count": null,
      "outputs": [
        {
          "output_type": "stream",
          "name": "stdout",
          "text": [
            "ดึงข้อมูลจาก https://travel.kapook.com/ และบันทึกเฉพาะข้อความที่อยู่ใน tag <body> ลงในไฟล์ output.txt เรียบร้อย\n"
          ]
        }
      ]
    }
  ]
}